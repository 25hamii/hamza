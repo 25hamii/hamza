{
 "cells": [
  {
   "cell_type": "code",
   "execution_count": null,
   "id": "aa2f8589",
   "metadata": {},
   "outputs": [],
   "source": [
    "# Scenario: To-Do List Manager\n",
    "\n",
    "print(\"Welcome to the To-Do List Manager!\")\n",
    "\n",
    "to_do_list = []\n",
    "\n",
    "while True:\n",
    "    print(\"/nMenu: \")\n",
    "    print(\"Add task to the list: \")\n",
    "    print(\"Mark a task as completed: \")\n",
    "    print(\"Remove a task from the list: \")\n",
    "    print(\"View the current task on the list: \")\n",
    "    print(\"Quit the program: \")\n",
    "    \n",
    "    choice = input(\"Enter your choice: \")\n",
    "    if choice == 1:\n",
    "        task = input(\"Enter the task: \")\n",
    "        to_do_list.append(task)\n",
    "        print(\"Task added to the list\")\n",
    "    \n",
    "  "
   ]
  }
 ],
 "metadata": {
  "kernelspec": {
   "display_name": "Python 3 (ipykernel)",
   "language": "python",
   "name": "python3"
  },
  "language_info": {
   "codemirror_mode": {
    "name": "ipython",
    "version": 3
   },
   "file_extension": ".py",
   "mimetype": "text/x-python",
   "name": "python",
   "nbconvert_exporter": "python",
   "pygments_lexer": "ipython3",
   "version": "3.11.5"
  }
 },
 "nbformat": 4,
 "nbformat_minor": 5
}
