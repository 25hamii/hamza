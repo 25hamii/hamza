{
 "cells": [
  {
   "cell_type": "code",
   "execution_count": null,
   "id": "13ce1783",
   "metadata": {},
   "outputs": [],
   "source": [
    "#print(np.concatenate([arr1,arr2],axis = 1))#axis=0horizontally output of rows\n",
    "# in axis 1 we are adding more columns to the array\n",
    "\n",
    "# To create an ndarray, we can pass a list, tuple or any array-like object into the array() method,\n",
    "# and it will be converted into an ndarray:\n"
   ]
  },
  {
   "cell_type": "code",
   "execution_count": 1,
   "id": "2e256c6b",
   "metadata": {},
   "outputs": [
    {
     "name": "stdout",
     "output_type": "stream",
     "text": [
      "[20 30 40]\n",
      "[4]\n",
      "[ 80 120 160]\n"
     ]
    }
   ],
   "source": [
    "import numpy as np\n",
    "\n",
    "a = np.array([20,30,40])\n",
    "b = np.array([4])\n",
    "print(a)\n",
    "print(b)\n",
    "print(a*b)"
   ]
  },
  {
   "cell_type": "code",
   "execution_count": 2,
   "id": "8aefabdd",
   "metadata": {},
   "outputs": [
    {
     "name": "stdout",
     "output_type": "stream",
     "text": [
      "[[20 30 10]\n",
      " [40 50 60]]\n"
     ]
    }
   ],
   "source": [
    "a = np.array([[20,30,10],[40,50,60]]) # in numpy the data type we store once willconvertall values to that dtype\n",
    "print(a)"
   ]
  },
  {
   "cell_type": "code",
   "execution_count": 3,
   "id": "7a507e47",
   "metadata": {},
   "outputs": [
    {
     "name": "stdout",
     "output_type": "stream",
     "text": [
      "[[20, 30, 40], [40, 50, 60]]\n"
     ]
    }
   ],
   "source": [
    "l1 = [[20,30,40],[40,50,60]]\n",
    "print(l1)"
   ]
  },
  {
   "cell_type": "code",
   "execution_count": 4,
   "id": "99450725",
   "metadata": {},
   "outputs": [
    {
     "name": "stdout",
     "output_type": "stream",
     "text": [
      "(3, 4)\n",
      "12\n",
      "2\n",
      "int32\n"
     ]
    }
   ],
   "source": [
    "# [50,60,70,80],[20,40,60,80]\n",
    "arr = np.array([[10,20,30,40],[50,60,70,80],[20,40,60,80]])\n",
    "print(np.shape(arr)) # how many rows and columns are there\n",
    "print(np.size(arr)) # size shows altogether how many values are in each array \n",
    "print(np.ndim(arr)) # shows number of dimensions\n",
    "print(arr.dtype)"
   ]
  },
  {
   "cell_type": "markdown",
   "id": "44136312",
   "metadata": {},
   "source": [
    "# Inspecting an array"
   ]
  },
  {
   "cell_type": "code",
   "execution_count": 96,
   "id": "cc527c8f",
   "metadata": {},
   "outputs": [
    {
     "name": "stdout",
     "output_type": "stream",
     "text": [
      "[[30.  40.  40. ]\n",
      " [40.  30.8 10. ]]\n",
      "(2, 3)\n",
      "2\n",
      "6\n",
      "<class 'numpy.ndarray'>\n",
      "float64\n",
      "[[30 40 40]\n",
      " [40 30 10]]\n"
     ]
    }
   ],
   "source": [
    "a = [[30,40,40],[40,30.8,10]] \n",
    "arr = np.array(a)\n",
    "print(arr)\n",
    "print(arr.shape) # rows, columns\n",
    "print(len(arr)) # number of nested elements\n",
    "print(np.size(arr)) # number of elements \n",
    "print(type(arr)) # data type of variable\n",
    "print(arr.dtype) # datatype of array\n",
    "print(arr.astype(int)) # conversion of datatype"
   ]
  },
  {
   "cell_type": "markdown",
   "id": "8956157d",
   "metadata": {},
   "source": [
    "# Performing Mathematical Calculations on arrays"
   ]
  },
  {
   "cell_type": "code",
   "execution_count": 6,
   "id": "18e6274c",
   "metadata": {},
   "outputs": [
    {
     "name": "stdout",
     "output_type": "stream",
     "text": [
      "[[60 60]\n",
      " [30 30]]\n",
      "[[60 60]\n",
      " [30 30]]\n"
     ]
    }
   ],
   "source": [
    "arr1 = np.array([[30,40],[20,10]])\n",
    "arr2 = np.array([[30,20],[10,20]])\n",
    "print(arr1 + arr2)\n",
    "print(np.add(arr1,arr2))"
   ]
  },
  {
   "cell_type": "code",
   "execution_count": 7,
   "id": "9a9e5816",
   "metadata": {},
   "outputs": [
    {
     "name": "stdout",
     "output_type": "stream",
     "text": [
      "[[  0  20]\n",
      " [ 10 -10]]\n",
      "[[  0  20]\n",
      " [ 10 -10]]\n"
     ]
    }
   ],
   "source": [
    "arr1 = np.array([[30,40],[20,10]])\n",
    "arr2 = np.array([[30,20],[10,20]])\n",
    "print(arr1-arr2)\n",
    "print(np.subtract(arr1,arr2))"
   ]
  },
  {
   "cell_type": "code",
   "execution_count": 8,
   "id": "b4569cbd",
   "metadata": {},
   "outputs": [
    {
     "name": "stdout",
     "output_type": "stream",
     "text": [
      "[[900 800]\n",
      " [200 200]]\n",
      "[[900 800]\n",
      " [200 200]]\n"
     ]
    }
   ],
   "source": [
    "arr1 = np.array([[30,40],[20,10]])\n",
    "arr2 = np.array([[30,20],[10,20]])\n",
    "print(arr1*arr2)\n",
    "print(np.multiply(arr1,arr2))"
   ]
  },
  {
   "cell_type": "code",
   "execution_count": 9,
   "id": "984c2c87",
   "metadata": {},
   "outputs": [
    {
     "name": "stdout",
     "output_type": "stream",
     "text": [
      "[[1.  2. ]\n",
      " [2.  0.5]]\n",
      "[[1.  2. ]\n",
      " [2.  0.5]]\n"
     ]
    }
   ],
   "source": [
    "arr1 = np.array([[30,40],[20,10]])\n",
    "arr2 = np.array([[30,20],[10,20]])\n",
    "print(arr1/arr2)\n",
    "print(np.divide(arr1,arr2))"
   ]
  },
  {
   "cell_type": "code",
   "execution_count": 10,
   "id": "ab526740",
   "metadata": {},
   "outputs": [
    {
     "name": "stdout",
     "output_type": "stream",
     "text": [
      "[ 9 16  4  1]\n"
     ]
    }
   ],
   "source": [
    "arr1 = np.array([3,4,2,1])\n",
    "arr2 = np.array([2])\n",
    "print(np.power(arr1,arr2))"
   ]
  },
  {
   "cell_type": "code",
   "execution_count": 11,
   "id": "0a69b64c",
   "metadata": {},
   "outputs": [
    {
     "name": "stdout",
     "output_type": "stream",
     "text": [
      "[3. 4. 2. 1.]\n"
     ]
    }
   ],
   "source": [
    "arr1 = np.array([9,16,4,1])\n",
    "print(np.sqrt(arr1))"
   ]
  },
  {
   "cell_type": "markdown",
   "id": "08d42584",
   "metadata": {},
   "source": [
    "# Join And Split"
   ]
  },
  {
   "cell_type": "code",
   "execution_count": 12,
   "id": "2f9e2445",
   "metadata": {},
   "outputs": [
    {
     "name": "stdout",
     "output_type": "stream",
     "text": [
      "[30, 40, 50, 5, 5, 3]\n"
     ]
    }
   ],
   "source": [
    "a = [30,40,50]\n",
    "b = [5,5,3]\n",
    "print(a+b)"
   ]
  },
  {
   "cell_type": "code",
   "execution_count": 13,
   "id": "340b3d43",
   "metadata": {},
   "outputs": [
    {
     "name": "stdout",
     "output_type": "stream",
     "text": [
      "[[30 40]\n",
      " [50 10]\n",
      " [ 5  5]\n",
      " [ 3  3]]\n"
     ]
    }
   ],
   "source": [
    "#Concatenate\n",
    "arr1 = np.array([[30,40],[50,10]])\n",
    "arr2 = np.array([[5,5],[3,3]])\n",
    "print(np.concatenate([arr1,arr2]))"
   ]
  },
  {
   "cell_type": "code",
   "execution_count": 20,
   "id": "7b648e2b",
   "metadata": {},
   "outputs": [
    {
     "name": "stdout",
     "output_type": "stream",
     "text": [
      "[[30 40  5  5]\n",
      " [50 10  3  3]]\n"
     ]
    }
   ],
   "source": [
    "print(np.concatenate([arr1,arr2],axis = 1)) # axis=1 horizontally output of rows\n",
    "# in axis 1 we are adding more columns to the array"
   ]
  },
  {
   "cell_type": "code",
   "execution_count": 19,
   "id": "69ec0bc2",
   "metadata": {},
   "outputs": [
    {
     "name": "stdout",
     "output_type": "stream",
     "text": [
      "[[30 40  5  5]\n",
      " [50 10  3  3]]\n"
     ]
    }
   ],
   "source": [
    "print(np.hstack([arr1,arr2])) # horizontal concatenation "
   ]
  },
  {
   "cell_type": "code",
   "execution_count": 21,
   "id": "c0136ce9",
   "metadata": {},
   "outputs": [
    {
     "name": "stdout",
     "output_type": "stream",
     "text": [
      "[[30 40]\n",
      " [50 10]\n",
      " [ 5  5]\n",
      " [ 3  3]]\n"
     ]
    }
   ],
   "source": [
    "print(np.vstack([arr1,arr2])) # vertical concatenation"
   ]
  },
  {
   "cell_type": "code",
   "execution_count": 37,
   "id": "6ffe5fb6",
   "metadata": {},
   "outputs": [
    {
     "name": "stdout",
     "output_type": "stream",
     "text": [
      "[array([[20, 40, 30]]), array([[40, 10, 20]])]\n"
     ]
    }
   ],
   "source": [
    "a = np.array([[20,40,30],[40,10,20]])\n",
    "b = np.array_split(a,2)\n",
    "print(b)"
   ]
  },
  {
   "cell_type": "markdown",
   "id": "ff9d036d",
   "metadata": {},
   "source": [
    "# Adding and Removing Elements in the Arrays.."
   ]
  },
  {
   "cell_type": "code",
   "execution_count": 45,
   "id": "135153ab",
   "metadata": {},
   "outputs": [
    {
     "name": "stdout",
     "output_type": "stream",
     "text": [
      "[ 20  40  60  80  90 100]\n"
     ]
    }
   ],
   "source": [
    "a = np.array([[20,40],[60,80]]) \n",
    "print(np.append(a,[90,100]))      "
   ]
  },
  {
   "cell_type": "code",
   "execution_count": 50,
   "id": "6146e683",
   "metadata": {},
   "outputs": [
    {
     "name": "stdout",
     "output_type": "stream",
     "text": [
      "[[20 40]\n",
      " [50 50]\n",
      " [60 80]\n",
      " [50 50]]\n"
     ]
    }
   ],
   "source": [
    "print(np.insert(a,[1,2],[50], axis = 0))  # arr,index,value"
   ]
  },
  {
   "cell_type": "code",
   "execution_count": 53,
   "id": "019fad5c",
   "metadata": {},
   "outputs": [
    {
     "name": "stdout",
     "output_type": "stream",
     "text": [
      "[[20 40]\n",
      " [60 80]]\n",
      "[[20]\n",
      " [60]]\n"
     ]
    }
   ],
   "source": [
    "print(a)\n",
    "print(np.delete(a,1, axis = 1))"
   ]
  },
  {
   "cell_type": "code",
   "execution_count": 55,
   "id": "b2db011c",
   "metadata": {},
   "outputs": [
    {
     "name": "stdout",
     "output_type": "stream",
     "text": [
      "[[ 4  7  8  9 12]\n",
      " [ 1  2  3  5  8]]\n"
     ]
    }
   ],
   "source": [
    "ar = np.array([[7,8,4,12,9], [2,8,5,1,3]])\n",
    "print(np.sort(ar))"
   ]
  },
  {
   "cell_type": "code",
   "execution_count": 58,
   "id": "008fd0c5",
   "metadata": {},
   "outputs": [
    {
     "name": "stdout",
     "output_type": "stream",
     "text": [
      "(array([1, 4], dtype=int64),)\n"
     ]
    }
   ],
   "source": [
    "ar = np.array([3,4,1,7,8]) # search shows index of values\n",
    "s = np.where(ar % 2 == 0)\n",
    "print(s)"
   ]
  },
  {
   "cell_type": "code",
   "execution_count": 60,
   "id": "adfe17dd",
   "metadata": {},
   "outputs": [
    {
     "name": "stdout",
     "output_type": "stream",
     "text": [
      "4\n"
     ]
    }
   ],
   "source": [
    "ar = np.array([1,2,3,4,5]) # arrayshouldbe sorted to apply searchsortedfunction\n",
    "ss = np.searchsorted(ar,5)\n",
    "print(ss)"
   ]
  },
  {
   "cell_type": "code",
   "execution_count": 62,
   "id": "fa78866e",
   "metadata": {},
   "outputs": [
    {
     "name": "stdout",
     "output_type": "stream",
     "text": [
      "[20]\n"
     ]
    }
   ],
   "source": [
    "# filter \n",
    "ar = np.array([20,30,40,50]) # array should be equal to fa\n",
    "\n",
    "fa = [True, False, False, False]\n",
    "\n",
    "new = ar[fa]\n",
    "print(new)"
   ]
  },
  {
   "cell_type": "code",
   "execution_count": 65,
   "id": "8f847eee",
   "metadata": {},
   "outputs": [
    {
     "name": "stdout",
     "output_type": "stream",
     "text": [
      "[3 5]\n"
     ]
    }
   ],
   "source": [
    "ar = np.array([2,3,4,5])\n",
    "\n",
    "fa = ar%2 == 1\n",
    "new = ar[fa]\n",
    "print(new)"
   ]
  },
  {
   "cell_type": "markdown",
   "id": "d157ec12",
   "metadata": {},
   "source": [
    "# Aggregating Functions"
   ]
  },
  {
   "cell_type": "code",
   "execution_count": 72,
   "id": "0668f5af",
   "metadata": {},
   "outputs": [
    {
     "name": "stdout",
     "output_type": "stream",
     "text": [
      "190\n",
      "20\n",
      "70\n",
      "4\n",
      "47.5\n",
      "[ 20  60 120 190]\n",
      "[     20     800   48000 3360000]\n"
     ]
    }
   ],
   "source": [
    "a = np.array([20,40,60,70])\n",
    "\n",
    "print(np.sum(a))\n",
    "print(np.min(a))\n",
    "print(np.max(a))\n",
    "print(np.size(a))\n",
    "print(np.mean(a))\n",
    "print(np.cumsum(a))#itaddspreviousvaluewiththe nextvalue to printnextalue\n",
    "print(np.cumprod(a))"
   ]
  },
  {
   "cell_type": "code",
   "execution_count": 89,
   "id": "2d4750f2",
   "metadata": {},
   "outputs": [
    {
     "name": "stdout",
     "output_type": "stream",
     "text": [
      "[100 150 199 200 250 130] \n",
      " [10 50 30 40 30 10]\n",
      "\n",
      "31270\n"
     ]
    }
   ],
   "source": [
    "a = [100,150,199,200,250,130]\n",
    "b = [10,50,30,40,30,10]\n",
    "\n",
    "price = np.array(a)\n",
    "quantity = np.array(b)\n",
    "\n",
    "print(price, \"\\n\" ,quantity)\n",
    "print()\n",
    "c = np.cumprod([price,quantity], axis = 0)\n",
    "print(c[1].sum())"
   ]
  },
  {
   "cell_type": "markdown",
   "id": "a8899174",
   "metadata": {},
   "source": [
    "# Statistical Functions"
   ]
  },
  {
   "cell_type": "code",
   "execution_count": 95,
   "id": "d2e02689",
   "metadata": {},
   "outputs": [
    {
     "name": "stdout",
     "output_type": "stream",
     "text": [
      "176.0\n",
      "179.0\n",
      "200\n",
      "29.017236257093817\n",
      "842.0\n"
     ]
    }
   ],
   "source": [
    "import statistics as stats\n",
    "\n",
    "baked_food = [200,150,150,130,200,220,170,188]\n",
    "\n",
    "a = np.array(baked_food)\n",
    "print(np.mean(baked_food)) # sum of al values/number of values\n",
    "print(np.median(baked_food)) # central value after sorting\n",
    "print(stats.mode(baked_food)) # it takes the first most ocurring value \n",
    "print(np.std(baked_food)) # std ** means variance\n",
    "print(np.var(baked_food))"
   ]
  },
  {
   "cell_type": "code",
   "execution_count": null,
   "id": "839f6d35",
   "metadata": {},
   "outputs": [],
   "source": []
  }
 ],
 "metadata": {
  "kernelspec": {
   "display_name": "Python 3 (ipykernel)",
   "language": "python",
   "name": "python3"
  },
  "language_info": {
   "codemirror_mode": {
    "name": "ipython",
    "version": 3
   },
   "file_extension": ".py",
   "mimetype": "text/x-python",
   "name": "python",
   "nbconvert_exporter": "python",
   "pygments_lexer": "ipython3",
   "version": "3.11.5"
  }
 },
 "nbformat": 4,
 "nbformat_minor": 5
}
